{
  "nbformat": 4,
  "nbformat_minor": 0,
  "metadata": {
    "colab": {
      "provenance": []
    },
    "kernelspec": {
      "name": "python3",
      "display_name": "Python 3"
    },
    "language_info": {
      "name": "python"
    }
  },
  "cells": [
    {
      "cell_type": "code",
      "execution_count": 1,
      "metadata": {
        "colab": {
          "base_uri": "https://localhost:8080/"
        },
        "id": "_73QAb2eHVjE",
        "outputId": "8261474b-af5c-497b-bb62-d222d400570b"
      },
      "outputs": [
        {
          "output_type": "stream",
          "name": "stdout",
          "text": [
            "Requirement already satisfied: requests in /usr/local/lib/python3.10/dist-packages (2.31.0)\n",
            "Requirement already satisfied: beautifulsoup4 in /usr/local/lib/python3.10/dist-packages (4.12.3)\n",
            "Requirement already satisfied: charset-normalizer<4,>=2 in /usr/local/lib/python3.10/dist-packages (from requests) (3.3.2)\n",
            "Requirement already satisfied: idna<4,>=2.5 in /usr/local/lib/python3.10/dist-packages (from requests) (3.6)\n",
            "Requirement already satisfied: urllib3<3,>=1.21.1 in /usr/local/lib/python3.10/dist-packages (from requests) (2.0.7)\n",
            "Requirement already satisfied: certifi>=2017.4.17 in /usr/local/lib/python3.10/dist-packages (from requests) (2024.2.2)\n",
            "Requirement already satisfied: soupsieve>1.2 in /usr/local/lib/python3.10/dist-packages (from beautifulsoup4) (2.5)\n"
          ]
        }
      ],
      "source": [
        "# ライブラリのインストール\n",
        "!pip install requests beautifulsoup4"
      ]
    },
    {
      "cell_type": "code",
      "source": [
        "# RequestsとBeautiful Soupをインポート\n",
        "import requests\n",
        "from bs4 import BeautifulSoup"
      ],
      "metadata": {
        "id": "irN-HzeKKn52"
      },
      "execution_count": 2,
      "outputs": []
    },
    {
      "cell_type": "code",
      "source": [
        "# テキストを取得する対象URLをurlに格納\n",
        "url = 'https://news.yahoo.co.jp/articles/39152c0408df337f0c86f914c01a4a78e6c8e7d6'"
      ],
      "metadata": {
        "id": "vR7P-4QsK15D"
      },
      "execution_count": 3,
      "outputs": []
    },
    {
      "cell_type": "code",
      "source": [
        "# GETリクエストを送信し、HTMLを取得する\n",
        "response = requests.get(url)"
      ],
      "metadata": {
        "id": "JfQbN5NPLDMt"
      },
      "execution_count": 4,
      "outputs": []
    },
    {
      "cell_type": "code",
      "source": [
        "# HTMLを解析する\n",
        "soup = BeautifulSoup(response.text, 'html.parser')"
      ],
      "metadata": {
        "id": "8RNdo0OiLKSu"
      },
      "execution_count": 5,
      "outputs": []
    },
    {
      "cell_type": "code",
      "source": [
        "# CSSセレクタを使用して、テキストを取得\n",
        "text_element = soup.select_one('#uamods > div.article_body.highLightSearchTarget > div > p')"
      ],
      "metadata": {
        "id": "pTL0qioGLVLV"
      },
      "execution_count": 7,
      "outputs": []
    },
    {
      "cell_type": "code",
      "source": [
        "#テキストを取得\n",
        "news_text = text_element.text"
      ],
      "metadata": {
        "id": "G7Y_ZH8wLskD"
      },
      "execution_count": 8,
      "outputs": []
    },
    {
      "cell_type": "code",
      "source": [
        "# テキストを表示\n",
        "print(news_text)"
      ],
      "metadata": {
        "colab": {
          "base_uri": "https://localhost:8080/"
        },
        "id": "Ah0poVIHL6eV",
        "outputId": "ceee7e12-6c6d-42c0-9f0f-d5e757b40103"
      },
      "execution_count": 9,
      "outputs": [
        {
          "output_type": "stream",
          "name": "stdout",
          "text": [
            "　イスラム教において最も神聖な期間「ラマダン（断食月）」が、10日ごろに始まる。\n",
            "\n",
            "　昨年10月以降、パレスチナ自治区ガザで続くイスラエルとイスラム組織ハマスの戦闘を巡り、米国やカタールなど仲介国はラマダン前に休戦交渉を成立させようと急いでいる。\n",
            "\n",
            "【写真特集】ガザ衝突～「最悪の虐殺」～\n",
            "\n",
            "　ラマダンは太陰暦に基づき約1カ月続く。イスラム教徒は日中の飲食を断ち、日没後、家族や親族らと共にごちそうを食べて団らんを楽しむ。テレビでは特別ドラマが放送され、イスラム圏では街中がお祭り一色となる。\n",
            "\n",
            "　東京外国語大の八木久美子教授（宗教学）は「イスラム教徒にとって一年で最も楽しみにしている期間であり、より良い生き方をしようという思いが、いつも以上に高まる」と説明。「紛争のような暴力的なことはしたくないという考えも当然強まる」として、「『クリスマス休戦』のように、ラマダンは停戦の機会となり得る」と指摘する。\n",
            "\n",
            "　逆にラマダン中に、イスラエルによる攻撃が続けば、アラブ諸国を中心にイスラム教徒が猛反発することは必至だ。日本の外務省は、パレスチナ情勢の緊迫化も踏まえ「テロの脅威が高まる傾向にある」と海外渡航について注意喚起している。イエメンやレバノンといった周辺国の親イラン武装組織が、イスラエルへの攻撃をエスカレートさせる恐れもある。\n",
            "\n",
            "　また、ガザ住民は既に深刻な人道危機に陥っており、断食に臨んでみんなでお祝いする状況ではない。八木教授は「ガザの人々は、ラマダンという『特別な時間を奪われた』と感じるだろう」とも説明する。\n",
            "\n",
            "　昨年のラマダン期間中には、エルサレム旧市街のイスラム教聖地ハラム・アッシャリフ（ユダヤ教呼称「神殿の丘」）でパレスチナ人とイスラエル治安部隊の武力衝突が発生した。今年も聖地周辺での治安悪化を警戒するイスラエルは、状況次第で立ち入りを禁止する方針を示している。　\n"
          ]
        }
      ]
    }
  ]
}